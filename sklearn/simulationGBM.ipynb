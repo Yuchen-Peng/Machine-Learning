{
 "cells": [
  {
   "cell_type": "code",
   "execution_count": 1,
   "metadata": {
    "collapsed": false
   },
   "outputs": [
    {
     "name": "stderr",
     "output_type": "stream",
     "text": [
      "/Users/lzq857/anaconda/lib/python2.7/site-packages/sklearn/cross_validation.py:44: DeprecationWarning: This module was deprecated in version 0.18 in favor of the model_selection module into which all the refactored classes and functions are moved. Also note that the interface of the new CV iterators are different from that of this module. This module will be removed in 0.20.\n",
      "  \"This module will be removed in 0.20.\", DeprecationWarning)\n"
     ]
    }
   ],
   "source": [
    "import numpy as np\n",
    "import pandas as pd\n",
    "from sklearn.cross_validation import train_test_split\n",
    "from sklearn.ensemble import GradientBoostingRegressor\n",
    "import matplotlib.pyplot as plt\n",
    "import seaborn as sns\n",
    "import random"
   ]
  },
  {
   "cell_type": "code",
   "execution_count": 2,
   "metadata": {
    "collapsed": false
   },
   "outputs": [],
   "source": [
    "x1 = np.arange(0,10,0.01)\n",
    "x2 = np.arange(10,20,0.01)\n",
    "y = 0.1*(x1-5)**2 + np.log(x2/(30-x2)) + np.sqrt(x1/x2) +  0.5*np.random.normal(0,1,(1000))"
   ]
  },
  {
   "cell_type": "code",
   "execution_count": 3,
   "metadata": {
    "collapsed": false
   },
   "outputs": [
    {
     "data": {
      "text/plain": [
       "1000"
      ]
     },
     "execution_count": 3,
     "metadata": {},
     "output_type": "execute_result"
    }
   ],
   "source": [
    "len(x1)"
   ]
  },
  {
   "cell_type": "code",
   "execution_count": 4,
   "metadata": {
    "collapsed": false
   },
   "outputs": [
    {
     "data": {
      "text/plain": [
       "1000"
      ]
     },
     "execution_count": 4,
     "metadata": {},
     "output_type": "execute_result"
    }
   ],
   "source": [
    "len(x2)"
   ]
  },
  {
   "cell_type": "code",
   "execution_count": 5,
   "metadata": {
    "collapsed": false
   },
   "outputs": [
    {
     "data": {
      "text/plain": [
       "1000"
      ]
     },
     "execution_count": 5,
     "metadata": {},
     "output_type": "execute_result"
    }
   ],
   "source": [
    "len(y)"
   ]
  },
  {
   "cell_type": "code",
   "execution_count": 6,
   "metadata": {
    "collapsed": false
   },
   "outputs": [],
   "source": [
    "df = pd.DataFrame({'x1': x1, 'x2': x2, 'target':y})"
   ]
  },
  {
   "cell_type": "code",
   "execution_count": 7,
   "metadata": {
    "collapsed": false
   },
   "outputs": [],
   "source": [
    "X1 = df[['x1','x2']].as_matrix()\n",
    "target = df['target'].as_matrix()\n"
   ]
  },
  {
   "cell_type": "code",
   "execution_count": 8,
   "metadata": {
    "collapsed": false
   },
   "outputs": [],
   "source": [
    "gbc = GradientBoostingRegressor(learning_rate=0.05,min_samples_leaf=5)\n",
    "model1 = gbc.fit(X1,target)\n"
   ]
  },
  {
   "cell_type": "code",
   "execution_count": 9,
   "metadata": {
    "collapsed": true
   },
   "outputs": [],
   "source": [
    "pred1 = model1.predict(X1)"
   ]
  },
  {
   "cell_type": "code",
   "execution_count": 10,
   "metadata": {
    "collapsed": false
   },
   "outputs": [
    {
     "data": {
      "text/plain": [
       "0.79246899473137666"
      ]
     },
     "execution_count": 10,
     "metadata": {},
     "output_type": "execute_result"
    }
   ],
   "source": [
    "from sklearn.metrics import r2_score\n",
    "r2_score(target,pred1)"
   ]
  },
  {
   "cell_type": "code",
   "execution_count": 11,
   "metadata": {
    "collapsed": false
   },
   "outputs": [],
   "source": [
    "x1_new = (x1-5)**2"
   ]
  },
  {
   "cell_type": "code",
   "execution_count": 12,
   "metadata": {
    "collapsed": true
   },
   "outputs": [],
   "source": [
    "X_new = pd.DataFrame({'x1_new': x1_new, 'x2': x2, 'target':y})"
   ]
  },
  {
   "cell_type": "code",
   "execution_count": 13,
   "metadata": {
    "collapsed": true
   },
   "outputs": [],
   "source": [
    "X2 = X_new[['x1_new','x2']].as_matrix()\n",
    "target = df['target'].as_matrix()"
   ]
  },
  {
   "cell_type": "code",
   "execution_count": 14,
   "metadata": {
    "collapsed": true
   },
   "outputs": [],
   "source": [
    "model2 = gbc.fit(X2,target)"
   ]
  },
  {
   "cell_type": "code",
   "execution_count": 15,
   "metadata": {
    "collapsed": true
   },
   "outputs": [],
   "source": [
    "pred2 = model2.predict(X2)"
   ]
  },
  {
   "cell_type": "code",
   "execution_count": 16,
   "metadata": {
    "collapsed": false
   },
   "outputs": [
    {
     "data": {
      "text/plain": [
       "0.79645204952888737"
      ]
     },
     "execution_count": 16,
     "metadata": {},
     "output_type": "execute_result"
    }
   ],
   "source": [
    "from sklearn.metrics import r2_score\n",
    "r2_score(target,pred2)"
   ]
  },
  {
   "cell_type": "code",
   "execution_count": 17,
   "metadata": {
    "collapsed": true
   },
   "outputs": [],
   "source": [
    "X_new = pd.DataFrame({'x1_new': x1_new, 'x2': x2, 'ratio':x1/x2, 'target':y})"
   ]
  },
  {
   "cell_type": "code",
   "execution_count": 20,
   "metadata": {
    "collapsed": true
   },
   "outputs": [],
   "source": [
    "X3 = X_new[['x1_new','x2','ratio']].as_matrix()\n",
    "target = df['target'].as_matrix()"
   ]
  },
  {
   "cell_type": "code",
   "execution_count": 21,
   "metadata": {
    "collapsed": true
   },
   "outputs": [],
   "source": [
    "model3 = gbc.fit(X3,target)"
   ]
  },
  {
   "cell_type": "code",
   "execution_count": 22,
   "metadata": {
    "collapsed": true
   },
   "outputs": [],
   "source": [
    "pred3 = model2.predict(X3)"
   ]
  },
  {
   "cell_type": "code",
   "execution_count": 23,
   "metadata": {
    "collapsed": false
   },
   "outputs": [
    {
     "data": {
      "text/plain": [
       "0.79645204952888737"
      ]
     },
     "execution_count": 23,
     "metadata": {},
     "output_type": "execute_result"
    }
   ],
   "source": [
    "from sklearn.metrics import r2_score\n",
    "r2_score(target,pred3)"
   ]
  },
  {
   "cell_type": "code",
   "execution_count": 397,
   "metadata": {
    "collapsed": true
   },
   "outputs": [],
   "source": [
    "performancematrix_1 = pd.DataFrame({'Pred':pred1,'Actual':target})\n",
    "performancematrix_2 = pd.DataFrame({'Pred':pred2,'Actual':target})"
   ]
  },
  {
   "cell_type": "code",
   "execution_count": null,
   "metadata": {
    "collapsed": true
   },
   "outputs": [],
   "source": []
  },
  {
   "cell_type": "code",
   "execution_count": 398,
   "metadata": {
    "collapsed": false
   },
   "outputs": [
    {
     "data": {
      "text/html": [
       "<div>\n",
       "<table border=\"1\" class=\"dataframe\">\n",
       "  <thead>\n",
       "    <tr style=\"text-align: right;\">\n",
       "      <th></th>\n",
       "      <th>Actual</th>\n",
       "      <th>Pred</th>\n",
       "    </tr>\n",
       "  </thead>\n",
       "  <tbody>\n",
       "    <tr>\n",
       "      <th>450</th>\n",
       "      <td>-0.695660</td>\n",
       "      <td>0.052820</td>\n",
       "    </tr>\n",
       "    <tr>\n",
       "      <th>451</th>\n",
       "      <td>-0.583357</td>\n",
       "      <td>0.052820</td>\n",
       "    </tr>\n",
       "    <tr>\n",
       "      <th>452</th>\n",
       "      <td>0.517737</td>\n",
       "      <td>0.052820</td>\n",
       "    </tr>\n",
       "    <tr>\n",
       "      <th>453</th>\n",
       "      <td>0.805654</td>\n",
       "      <td>0.052820</td>\n",
       "    </tr>\n",
       "    <tr>\n",
       "      <th>454</th>\n",
       "      <td>0.052665</td>\n",
       "      <td>0.052820</td>\n",
       "    </tr>\n",
       "    <tr>\n",
       "      <th>455</th>\n",
       "      <td>-0.066216</td>\n",
       "      <td>0.052820</td>\n",
       "    </tr>\n",
       "    <tr>\n",
       "      <th>456</th>\n",
       "      <td>0.446367</td>\n",
       "      <td>0.052820</td>\n",
       "    </tr>\n",
       "    <tr>\n",
       "      <th>457</th>\n",
       "      <td>-0.407288</td>\n",
       "      <td>0.052820</td>\n",
       "    </tr>\n",
       "    <tr>\n",
       "      <th>458</th>\n",
       "      <td>-0.866878</td>\n",
       "      <td>0.052820</td>\n",
       "    </tr>\n",
       "    <tr>\n",
       "      <th>459</th>\n",
       "      <td>-0.221861</td>\n",
       "      <td>0.052820</td>\n",
       "    </tr>\n",
       "    <tr>\n",
       "      <th>460</th>\n",
       "      <td>-0.347336</td>\n",
       "      <td>0.052820</td>\n",
       "    </tr>\n",
       "    <tr>\n",
       "      <th>461</th>\n",
       "      <td>0.541241</td>\n",
       "      <td>0.052820</td>\n",
       "    </tr>\n",
       "    <tr>\n",
       "      <th>462</th>\n",
       "      <td>-0.402661</td>\n",
       "      <td>0.052820</td>\n",
       "    </tr>\n",
       "    <tr>\n",
       "      <th>463</th>\n",
       "      <td>0.040259</td>\n",
       "      <td>0.052820</td>\n",
       "    </tr>\n",
       "    <tr>\n",
       "      <th>464</th>\n",
       "      <td>0.057676</td>\n",
       "      <td>0.052820</td>\n",
       "    </tr>\n",
       "    <tr>\n",
       "      <th>465</th>\n",
       "      <td>0.923730</td>\n",
       "      <td>0.052820</td>\n",
       "    </tr>\n",
       "    <tr>\n",
       "      <th>466</th>\n",
       "      <td>-0.063466</td>\n",
       "      <td>0.052820</td>\n",
       "    </tr>\n",
       "    <tr>\n",
       "      <th>467</th>\n",
       "      <td>0.496258</td>\n",
       "      <td>0.052820</td>\n",
       "    </tr>\n",
       "    <tr>\n",
       "      <th>468</th>\n",
       "      <td>0.100680</td>\n",
       "      <td>0.052820</td>\n",
       "    </tr>\n",
       "    <tr>\n",
       "      <th>469</th>\n",
       "      <td>-0.471187</td>\n",
       "      <td>0.052820</td>\n",
       "    </tr>\n",
       "    <tr>\n",
       "      <th>470</th>\n",
       "      <td>0.859224</td>\n",
       "      <td>0.052820</td>\n",
       "    </tr>\n",
       "    <tr>\n",
       "      <th>471</th>\n",
       "      <td>0.357038</td>\n",
       "      <td>0.052820</td>\n",
       "    </tr>\n",
       "    <tr>\n",
       "      <th>472</th>\n",
       "      <td>-0.319816</td>\n",
       "      <td>0.052820</td>\n",
       "    </tr>\n",
       "    <tr>\n",
       "      <th>473</th>\n",
       "      <td>-0.695687</td>\n",
       "      <td>0.052820</td>\n",
       "    </tr>\n",
       "    <tr>\n",
       "      <th>474</th>\n",
       "      <td>0.282546</td>\n",
       "      <td>0.052820</td>\n",
       "    </tr>\n",
       "    <tr>\n",
       "      <th>475</th>\n",
       "      <td>0.196794</td>\n",
       "      <td>0.052820</td>\n",
       "    </tr>\n",
       "    <tr>\n",
       "      <th>476</th>\n",
       "      <td>-0.171640</td>\n",
       "      <td>0.052820</td>\n",
       "    </tr>\n",
       "    <tr>\n",
       "      <th>477</th>\n",
       "      <td>0.995112</td>\n",
       "      <td>0.052820</td>\n",
       "    </tr>\n",
       "    <tr>\n",
       "      <th>478</th>\n",
       "      <td>-1.194415</td>\n",
       "      <td>0.052820</td>\n",
       "    </tr>\n",
       "    <tr>\n",
       "      <th>479</th>\n",
       "      <td>1.369916</td>\n",
       "      <td>0.052820</td>\n",
       "    </tr>\n",
       "    <tr>\n",
       "      <th>...</th>\n",
       "      <td>...</td>\n",
       "      <td>...</td>\n",
       "    </tr>\n",
       "    <tr>\n",
       "      <th>520</th>\n",
       "      <td>-0.011515</td>\n",
       "      <td>0.068205</td>\n",
       "    </tr>\n",
       "    <tr>\n",
       "      <th>521</th>\n",
       "      <td>0.495569</td>\n",
       "      <td>0.068205</td>\n",
       "    </tr>\n",
       "    <tr>\n",
       "      <th>522</th>\n",
       "      <td>0.060477</td>\n",
       "      <td>0.068205</td>\n",
       "    </tr>\n",
       "    <tr>\n",
       "      <th>523</th>\n",
       "      <td>-0.493775</td>\n",
       "      <td>0.068205</td>\n",
       "    </tr>\n",
       "    <tr>\n",
       "      <th>524</th>\n",
       "      <td>0.574456</td>\n",
       "      <td>0.068205</td>\n",
       "    </tr>\n",
       "    <tr>\n",
       "      <th>525</th>\n",
       "      <td>0.721892</td>\n",
       "      <td>0.068205</td>\n",
       "    </tr>\n",
       "    <tr>\n",
       "      <th>526</th>\n",
       "      <td>0.233853</td>\n",
       "      <td>0.068205</td>\n",
       "    </tr>\n",
       "    <tr>\n",
       "      <th>527</th>\n",
       "      <td>-1.052552</td>\n",
       "      <td>0.068205</td>\n",
       "    </tr>\n",
       "    <tr>\n",
       "      <th>528</th>\n",
       "      <td>-0.090092</td>\n",
       "      <td>0.068205</td>\n",
       "    </tr>\n",
       "    <tr>\n",
       "      <th>529</th>\n",
       "      <td>-0.087550</td>\n",
       "      <td>0.068205</td>\n",
       "    </tr>\n",
       "    <tr>\n",
       "      <th>530</th>\n",
       "      <td>-0.147720</td>\n",
       "      <td>0.068205</td>\n",
       "    </tr>\n",
       "    <tr>\n",
       "      <th>531</th>\n",
       "      <td>0.472413</td>\n",
       "      <td>0.096133</td>\n",
       "    </tr>\n",
       "    <tr>\n",
       "      <th>532</th>\n",
       "      <td>0.023383</td>\n",
       "      <td>0.096133</td>\n",
       "    </tr>\n",
       "    <tr>\n",
       "      <th>533</th>\n",
       "      <td>0.401697</td>\n",
       "      <td>0.096133</td>\n",
       "    </tr>\n",
       "    <tr>\n",
       "      <th>534</th>\n",
       "      <td>0.334713</td>\n",
       "      <td>0.096133</td>\n",
       "    </tr>\n",
       "    <tr>\n",
       "      <th>535</th>\n",
       "      <td>0.143247</td>\n",
       "      <td>0.096133</td>\n",
       "    </tr>\n",
       "    <tr>\n",
       "      <th>536</th>\n",
       "      <td>-0.693178</td>\n",
       "      <td>0.096133</td>\n",
       "    </tr>\n",
       "    <tr>\n",
       "      <th>537</th>\n",
       "      <td>0.058805</td>\n",
       "      <td>0.096133</td>\n",
       "    </tr>\n",
       "    <tr>\n",
       "      <th>538</th>\n",
       "      <td>0.819316</td>\n",
       "      <td>0.096133</td>\n",
       "    </tr>\n",
       "    <tr>\n",
       "      <th>539</th>\n",
       "      <td>0.320517</td>\n",
       "      <td>0.096133</td>\n",
       "    </tr>\n",
       "    <tr>\n",
       "      <th>540</th>\n",
       "      <td>0.831277</td>\n",
       "      <td>0.096133</td>\n",
       "    </tr>\n",
       "    <tr>\n",
       "      <th>541</th>\n",
       "      <td>-0.652267</td>\n",
       "      <td>0.096133</td>\n",
       "    </tr>\n",
       "    <tr>\n",
       "      <th>542</th>\n",
       "      <td>0.008510</td>\n",
       "      <td>0.096133</td>\n",
       "    </tr>\n",
       "    <tr>\n",
       "      <th>543</th>\n",
       "      <td>-0.008876</td>\n",
       "      <td>0.096133</td>\n",
       "    </tr>\n",
       "    <tr>\n",
       "      <th>544</th>\n",
       "      <td>0.185395</td>\n",
       "      <td>0.096133</td>\n",
       "    </tr>\n",
       "    <tr>\n",
       "      <th>545</th>\n",
       "      <td>-0.329436</td>\n",
       "      <td>0.096133</td>\n",
       "    </tr>\n",
       "    <tr>\n",
       "      <th>546</th>\n",
       "      <td>0.813780</td>\n",
       "      <td>0.120269</td>\n",
       "    </tr>\n",
       "    <tr>\n",
       "      <th>547</th>\n",
       "      <td>0.930639</td>\n",
       "      <td>0.120269</td>\n",
       "    </tr>\n",
       "    <tr>\n",
       "      <th>548</th>\n",
       "      <td>0.130204</td>\n",
       "      <td>0.120269</td>\n",
       "    </tr>\n",
       "    <tr>\n",
       "      <th>549</th>\n",
       "      <td>0.345775</td>\n",
       "      <td>0.120269</td>\n",
       "    </tr>\n",
       "  </tbody>\n",
       "</table>\n",
       "<p>100 rows × 2 columns</p>\n",
       "</div>"
      ],
      "text/plain": [
       "       Actual      Pred\n",
       "450 -0.695660  0.052820\n",
       "451 -0.583357  0.052820\n",
       "452  0.517737  0.052820\n",
       "453  0.805654  0.052820\n",
       "454  0.052665  0.052820\n",
       "455 -0.066216  0.052820\n",
       "456  0.446367  0.052820\n",
       "457 -0.407288  0.052820\n",
       "458 -0.866878  0.052820\n",
       "459 -0.221861  0.052820\n",
       "460 -0.347336  0.052820\n",
       "461  0.541241  0.052820\n",
       "462 -0.402661  0.052820\n",
       "463  0.040259  0.052820\n",
       "464  0.057676  0.052820\n",
       "465  0.923730  0.052820\n",
       "466 -0.063466  0.052820\n",
       "467  0.496258  0.052820\n",
       "468  0.100680  0.052820\n",
       "469 -0.471187  0.052820\n",
       "470  0.859224  0.052820\n",
       "471  0.357038  0.052820\n",
       "472 -0.319816  0.052820\n",
       "473 -0.695687  0.052820\n",
       "474  0.282546  0.052820\n",
       "475  0.196794  0.052820\n",
       "476 -0.171640  0.052820\n",
       "477  0.995112  0.052820\n",
       "478 -1.194415  0.052820\n",
       "479  1.369916  0.052820\n",
       "..        ...       ...\n",
       "520 -0.011515  0.068205\n",
       "521  0.495569  0.068205\n",
       "522  0.060477  0.068205\n",
       "523 -0.493775  0.068205\n",
       "524  0.574456  0.068205\n",
       "525  0.721892  0.068205\n",
       "526  0.233853  0.068205\n",
       "527 -1.052552  0.068205\n",
       "528 -0.090092  0.068205\n",
       "529 -0.087550  0.068205\n",
       "530 -0.147720  0.068205\n",
       "531  0.472413  0.096133\n",
       "532  0.023383  0.096133\n",
       "533  0.401697  0.096133\n",
       "534  0.334713  0.096133\n",
       "535  0.143247  0.096133\n",
       "536 -0.693178  0.096133\n",
       "537  0.058805  0.096133\n",
       "538  0.819316  0.096133\n",
       "539  0.320517  0.096133\n",
       "540  0.831277  0.096133\n",
       "541 -0.652267  0.096133\n",
       "542  0.008510  0.096133\n",
       "543 -0.008876  0.096133\n",
       "544  0.185395  0.096133\n",
       "545 -0.329436  0.096133\n",
       "546  0.813780  0.120269\n",
       "547  0.930639  0.120269\n",
       "548  0.130204  0.120269\n",
       "549  0.345775  0.120269\n",
       "\n",
       "[100 rows x 2 columns]"
      ]
     },
     "execution_count": 398,
     "metadata": {},
     "output_type": "execute_result"
    }
   ],
   "source": [
    "performancematrix_1[450:550]"
   ]
  },
  {
   "cell_type": "code",
   "execution_count": 399,
   "metadata": {
    "collapsed": false
   },
   "outputs": [
    {
     "data": {
      "text/html": [
       "<div>\n",
       "<table border=\"1\" class=\"dataframe\">\n",
       "  <thead>\n",
       "    <tr style=\"text-align: right;\">\n",
       "      <th></th>\n",
       "      <th>Actual</th>\n",
       "      <th>Pred</th>\n",
       "    </tr>\n",
       "  </thead>\n",
       "  <tbody>\n",
       "    <tr>\n",
       "      <th>450</th>\n",
       "      <td>-0.695660</td>\n",
       "      <td>-0.008762</td>\n",
       "    </tr>\n",
       "    <tr>\n",
       "      <th>451</th>\n",
       "      <td>-0.583357</td>\n",
       "      <td>-0.008762</td>\n",
       "    </tr>\n",
       "    <tr>\n",
       "      <th>452</th>\n",
       "      <td>0.517737</td>\n",
       "      <td>-0.008762</td>\n",
       "    </tr>\n",
       "    <tr>\n",
       "      <th>453</th>\n",
       "      <td>0.805654</td>\n",
       "      <td>-0.008762</td>\n",
       "    </tr>\n",
       "    <tr>\n",
       "      <th>454</th>\n",
       "      <td>0.052665</td>\n",
       "      <td>-0.008762</td>\n",
       "    </tr>\n",
       "    <tr>\n",
       "      <th>455</th>\n",
       "      <td>-0.066216</td>\n",
       "      <td>-0.008762</td>\n",
       "    </tr>\n",
       "    <tr>\n",
       "      <th>456</th>\n",
       "      <td>0.446367</td>\n",
       "      <td>-0.008762</td>\n",
       "    </tr>\n",
       "    <tr>\n",
       "      <th>457</th>\n",
       "      <td>-0.407288</td>\n",
       "      <td>-0.008762</td>\n",
       "    </tr>\n",
       "    <tr>\n",
       "      <th>458</th>\n",
       "      <td>-0.866878</td>\n",
       "      <td>-0.008762</td>\n",
       "    </tr>\n",
       "    <tr>\n",
       "      <th>459</th>\n",
       "      <td>-0.221861</td>\n",
       "      <td>-0.008762</td>\n",
       "    </tr>\n",
       "    <tr>\n",
       "      <th>460</th>\n",
       "      <td>-0.347336</td>\n",
       "      <td>-0.008762</td>\n",
       "    </tr>\n",
       "    <tr>\n",
       "      <th>461</th>\n",
       "      <td>0.541241</td>\n",
       "      <td>0.055913</td>\n",
       "    </tr>\n",
       "    <tr>\n",
       "      <th>462</th>\n",
       "      <td>-0.402661</td>\n",
       "      <td>0.055913</td>\n",
       "    </tr>\n",
       "    <tr>\n",
       "      <th>463</th>\n",
       "      <td>0.040259</td>\n",
       "      <td>0.055913</td>\n",
       "    </tr>\n",
       "    <tr>\n",
       "      <th>464</th>\n",
       "      <td>0.057676</td>\n",
       "      <td>0.055913</td>\n",
       "    </tr>\n",
       "    <tr>\n",
       "      <th>465</th>\n",
       "      <td>0.923730</td>\n",
       "      <td>0.055913</td>\n",
       "    </tr>\n",
       "    <tr>\n",
       "      <th>466</th>\n",
       "      <td>-0.063466</td>\n",
       "      <td>0.055913</td>\n",
       "    </tr>\n",
       "    <tr>\n",
       "      <th>467</th>\n",
       "      <td>0.496258</td>\n",
       "      <td>0.055913</td>\n",
       "    </tr>\n",
       "    <tr>\n",
       "      <th>468</th>\n",
       "      <td>0.100680</td>\n",
       "      <td>0.055913</td>\n",
       "    </tr>\n",
       "    <tr>\n",
       "      <th>469</th>\n",
       "      <td>-0.471187</td>\n",
       "      <td>0.055913</td>\n",
       "    </tr>\n",
       "    <tr>\n",
       "      <th>470</th>\n",
       "      <td>0.859224</td>\n",
       "      <td>0.055913</td>\n",
       "    </tr>\n",
       "    <tr>\n",
       "      <th>471</th>\n",
       "      <td>0.357038</td>\n",
       "      <td>0.055913</td>\n",
       "    </tr>\n",
       "    <tr>\n",
       "      <th>472</th>\n",
       "      <td>-0.319816</td>\n",
       "      <td>0.031199</td>\n",
       "    </tr>\n",
       "    <tr>\n",
       "      <th>473</th>\n",
       "      <td>-0.695687</td>\n",
       "      <td>0.031199</td>\n",
       "    </tr>\n",
       "    <tr>\n",
       "      <th>474</th>\n",
       "      <td>0.282546</td>\n",
       "      <td>0.031199</td>\n",
       "    </tr>\n",
       "    <tr>\n",
       "      <th>475</th>\n",
       "      <td>0.196794</td>\n",
       "      <td>0.031199</td>\n",
       "    </tr>\n",
       "    <tr>\n",
       "      <th>476</th>\n",
       "      <td>-0.171640</td>\n",
       "      <td>0.031199</td>\n",
       "    </tr>\n",
       "    <tr>\n",
       "      <th>477</th>\n",
       "      <td>0.995112</td>\n",
       "      <td>0.031199</td>\n",
       "    </tr>\n",
       "    <tr>\n",
       "      <th>478</th>\n",
       "      <td>-1.194415</td>\n",
       "      <td>0.031199</td>\n",
       "    </tr>\n",
       "    <tr>\n",
       "      <th>479</th>\n",
       "      <td>1.369916</td>\n",
       "      <td>0.031199</td>\n",
       "    </tr>\n",
       "    <tr>\n",
       "      <th>...</th>\n",
       "      <td>...</td>\n",
       "      <td>...</td>\n",
       "    </tr>\n",
       "    <tr>\n",
       "      <th>520</th>\n",
       "      <td>-0.011515</td>\n",
       "      <td>0.090858</td>\n",
       "    </tr>\n",
       "    <tr>\n",
       "      <th>521</th>\n",
       "      <td>0.495569</td>\n",
       "      <td>0.090858</td>\n",
       "    </tr>\n",
       "    <tr>\n",
       "      <th>522</th>\n",
       "      <td>0.060477</td>\n",
       "      <td>0.090858</td>\n",
       "    </tr>\n",
       "    <tr>\n",
       "      <th>523</th>\n",
       "      <td>-0.493775</td>\n",
       "      <td>0.090858</td>\n",
       "    </tr>\n",
       "    <tr>\n",
       "      <th>524</th>\n",
       "      <td>0.574456</td>\n",
       "      <td>0.090858</td>\n",
       "    </tr>\n",
       "    <tr>\n",
       "      <th>525</th>\n",
       "      <td>0.721892</td>\n",
       "      <td>0.090858</td>\n",
       "    </tr>\n",
       "    <tr>\n",
       "      <th>526</th>\n",
       "      <td>0.233853</td>\n",
       "      <td>0.065186</td>\n",
       "    </tr>\n",
       "    <tr>\n",
       "      <th>527</th>\n",
       "      <td>-1.052552</td>\n",
       "      <td>0.055714</td>\n",
       "    </tr>\n",
       "    <tr>\n",
       "      <th>528</th>\n",
       "      <td>-0.090092</td>\n",
       "      <td>0.055714</td>\n",
       "    </tr>\n",
       "    <tr>\n",
       "      <th>529</th>\n",
       "      <td>-0.087550</td>\n",
       "      <td>0.055714</td>\n",
       "    </tr>\n",
       "    <tr>\n",
       "      <th>530</th>\n",
       "      <td>-0.147720</td>\n",
       "      <td>0.055714</td>\n",
       "    </tr>\n",
       "    <tr>\n",
       "      <th>531</th>\n",
       "      <td>0.472413</td>\n",
       "      <td>0.091113</td>\n",
       "    </tr>\n",
       "    <tr>\n",
       "      <th>532</th>\n",
       "      <td>0.023383</td>\n",
       "      <td>0.091113</td>\n",
       "    </tr>\n",
       "    <tr>\n",
       "      <th>533</th>\n",
       "      <td>0.401697</td>\n",
       "      <td>0.091113</td>\n",
       "    </tr>\n",
       "    <tr>\n",
       "      <th>534</th>\n",
       "      <td>0.334713</td>\n",
       "      <td>0.091113</td>\n",
       "    </tr>\n",
       "    <tr>\n",
       "      <th>535</th>\n",
       "      <td>0.143247</td>\n",
       "      <td>0.091113</td>\n",
       "    </tr>\n",
       "    <tr>\n",
       "      <th>536</th>\n",
       "      <td>-0.693178</td>\n",
       "      <td>0.091113</td>\n",
       "    </tr>\n",
       "    <tr>\n",
       "      <th>537</th>\n",
       "      <td>0.058805</td>\n",
       "      <td>0.091113</td>\n",
       "    </tr>\n",
       "    <tr>\n",
       "      <th>538</th>\n",
       "      <td>0.819316</td>\n",
       "      <td>0.091113</td>\n",
       "    </tr>\n",
       "    <tr>\n",
       "      <th>539</th>\n",
       "      <td>0.320517</td>\n",
       "      <td>0.091113</td>\n",
       "    </tr>\n",
       "    <tr>\n",
       "      <th>540</th>\n",
       "      <td>0.831277</td>\n",
       "      <td>0.091113</td>\n",
       "    </tr>\n",
       "    <tr>\n",
       "      <th>541</th>\n",
       "      <td>-0.652267</td>\n",
       "      <td>0.091113</td>\n",
       "    </tr>\n",
       "    <tr>\n",
       "      <th>542</th>\n",
       "      <td>0.008510</td>\n",
       "      <td>0.091113</td>\n",
       "    </tr>\n",
       "    <tr>\n",
       "      <th>543</th>\n",
       "      <td>-0.008876</td>\n",
       "      <td>0.091113</td>\n",
       "    </tr>\n",
       "    <tr>\n",
       "      <th>544</th>\n",
       "      <td>0.185395</td>\n",
       "      <td>0.091113</td>\n",
       "    </tr>\n",
       "    <tr>\n",
       "      <th>545</th>\n",
       "      <td>-0.329436</td>\n",
       "      <td>0.091113</td>\n",
       "    </tr>\n",
       "    <tr>\n",
       "      <th>546</th>\n",
       "      <td>0.813780</td>\n",
       "      <td>0.115249</td>\n",
       "    </tr>\n",
       "    <tr>\n",
       "      <th>547</th>\n",
       "      <td>0.930639</td>\n",
       "      <td>0.115249</td>\n",
       "    </tr>\n",
       "    <tr>\n",
       "      <th>548</th>\n",
       "      <td>0.130204</td>\n",
       "      <td>0.115249</td>\n",
       "    </tr>\n",
       "    <tr>\n",
       "      <th>549</th>\n",
       "      <td>0.345775</td>\n",
       "      <td>0.115249</td>\n",
       "    </tr>\n",
       "  </tbody>\n",
       "</table>\n",
       "<p>100 rows × 2 columns</p>\n",
       "</div>"
      ],
      "text/plain": [
       "       Actual      Pred\n",
       "450 -0.695660 -0.008762\n",
       "451 -0.583357 -0.008762\n",
       "452  0.517737 -0.008762\n",
       "453  0.805654 -0.008762\n",
       "454  0.052665 -0.008762\n",
       "455 -0.066216 -0.008762\n",
       "456  0.446367 -0.008762\n",
       "457 -0.407288 -0.008762\n",
       "458 -0.866878 -0.008762\n",
       "459 -0.221861 -0.008762\n",
       "460 -0.347336 -0.008762\n",
       "461  0.541241  0.055913\n",
       "462 -0.402661  0.055913\n",
       "463  0.040259  0.055913\n",
       "464  0.057676  0.055913\n",
       "465  0.923730  0.055913\n",
       "466 -0.063466  0.055913\n",
       "467  0.496258  0.055913\n",
       "468  0.100680  0.055913\n",
       "469 -0.471187  0.055913\n",
       "470  0.859224  0.055913\n",
       "471  0.357038  0.055913\n",
       "472 -0.319816  0.031199\n",
       "473 -0.695687  0.031199\n",
       "474  0.282546  0.031199\n",
       "475  0.196794  0.031199\n",
       "476 -0.171640  0.031199\n",
       "477  0.995112  0.031199\n",
       "478 -1.194415  0.031199\n",
       "479  1.369916  0.031199\n",
       "..        ...       ...\n",
       "520 -0.011515  0.090858\n",
       "521  0.495569  0.090858\n",
       "522  0.060477  0.090858\n",
       "523 -0.493775  0.090858\n",
       "524  0.574456  0.090858\n",
       "525  0.721892  0.090858\n",
       "526  0.233853  0.065186\n",
       "527 -1.052552  0.055714\n",
       "528 -0.090092  0.055714\n",
       "529 -0.087550  0.055714\n",
       "530 -0.147720  0.055714\n",
       "531  0.472413  0.091113\n",
       "532  0.023383  0.091113\n",
       "533  0.401697  0.091113\n",
       "534  0.334713  0.091113\n",
       "535  0.143247  0.091113\n",
       "536 -0.693178  0.091113\n",
       "537  0.058805  0.091113\n",
       "538  0.819316  0.091113\n",
       "539  0.320517  0.091113\n",
       "540  0.831277  0.091113\n",
       "541 -0.652267  0.091113\n",
       "542  0.008510  0.091113\n",
       "543 -0.008876  0.091113\n",
       "544  0.185395  0.091113\n",
       "545 -0.329436  0.091113\n",
       "546  0.813780  0.115249\n",
       "547  0.930639  0.115249\n",
       "548  0.130204  0.115249\n",
       "549  0.345775  0.115249\n",
       "\n",
       "[100 rows x 2 columns]"
      ]
     },
     "execution_count": 399,
     "metadata": {},
     "output_type": "execute_result"
    }
   ],
   "source": [
    "performancematrix_2[450:550]"
   ]
  },
  {
   "cell_type": "code",
   "execution_count": 400,
   "metadata": {
    "collapsed": false
   },
   "outputs": [],
   "source": [
    "nbins = 10\n",
    "\n",
    "n=len(target)\n",
    "last_ind = 0\n",
    "avg1 = []\n",
    "\n",
    "for x in range(nbins):\n",
    "    count = int(np.round(n / nbins * (x + 1), 0))\n",
    "    subset1 = performancematrix_1.iloc[last_ind:count]\n",
    "    avg1.append(np.mean(subset1['Actual']))\n",
    "    last_ind = count\n",
    "\n",
    "avg2 = []\n",
    "for x in range(nbins):\n",
    "    count = int(np.round(n / nbins * (x + 1), 0))\n",
    "    subset2 = performancematrix_2.iloc[last_ind:count]\n",
    "    avg2.append(np.mean(subset2['Actual']))\n",
    "    last_ind = count"
   ]
  },
  {
   "cell_type": "code",
   "execution_count": 401,
   "metadata": {
    "collapsed": false
   },
   "outputs": [
    {
     "data": {
      "text/plain": [
       "[nan,\n",
       " 0.793999818523051,\n",
       " 0.26426868065639303,\n",
       " 0.052600041681063,\n",
       " -0.03256480466560139,\n",
       " 0.05679445970139099,\n",
       " 0.4235913785550558,\n",
       " 0.8402052229439976,\n",
       " 1.667153756522738,\n",
       " 2.5991092217557497]"
      ]
     },
     "execution_count": 401,
     "metadata": {},
     "output_type": "execute_result"
    }
   ],
   "source": [
    "avg2"
   ]
  },
  {
   "cell_type": "code",
   "execution_count": 402,
   "metadata": {
    "collapsed": false
   },
   "outputs": [
    {
     "data": {
      "text/plain": [
       "[1.4085654612442062,\n",
       " 0.793999818523051,\n",
       " 0.26426868065639303,\n",
       " 0.052600041681063,\n",
       " -0.03256480466560139,\n",
       " 0.05679445970139099,\n",
       " 0.4235913785550558,\n",
       " 0.8402052229439976,\n",
       " 1.667153756522738,\n",
       " 2.5991092217557497]"
      ]
     },
     "execution_count": 402,
     "metadata": {},
     "output_type": "execute_result"
    }
   ],
   "source": [
    "avg1"
   ]
  },
  {
   "cell_type": "code",
   "execution_count": 403,
   "metadata": {
    "collapsed": false
   },
   "outputs": [
    {
     "data": {
      "text/plain": [
       "[<matplotlib.lines.Line2D at 0x11c8c7b90>]"
      ]
     },
     "execution_count": 403,
     "metadata": {},
     "output_type": "execute_result"
    },
    {
     "data": {
      "image/png": "[encoded data removed]",
      "text/plain": [
       "<matplotlib.figure.Figure at 0x11c8c7990>"
      ]
     },
     "metadata": {},
     "output_type": "display_data"
    }
   ],
   "source": [
    "index=range(1,nbins+1)\n",
    "plt.plot(index,avg1,\"blue\")\n",
    "plt.plot(index,avg2,\"purple\")"
   ]
  },
  {
   "cell_type": "code",
   "execution_count": 404,
   "metadata": {
    "collapsed": false
   },
   "outputs": [
    {
     "data": {
      "image/png": "[encoded data removed]",
      "text/plain": [
       "<matplotlib.figure.Figure at 0x11c9c1650>"
      ]
     },
     "metadata": {},
     "output_type": "display_data"
    }
   ],
   "source": [
    "%matplotlib inline\n",
    "\n",
    "from sklearn.ensemble.partial_dependence import plot_partial_dependence as PDP\n",
    "from sklearn.ensemble.partial_dependence import partial_dependence\n",
    "fig, axs = PDP(model1, X1, [0])"
   ]
  },
  {
   "cell_type": "code",
   "execution_count": 405,
   "metadata": {
    "collapsed": false
   },
   "outputs": [
    {
     "data": {
      "image/png": "[encoded data removed]",
      "text/plain": [
       "<matplotlib.figure.Figure at 0x11c9d3710>"
      ]
     },
     "metadata": {},
     "output_type": "display_data"
    }
   ],
   "source": [
    "fig, axs = PDP(model2, X2, [0])"
   ]
  }
 ],
 "metadata": {
  "kernelspec": {
   "display_name": "Python 2",
   "language": "python",
   "name": "python2"
  },
  "language_info": {
   "codemirror_mode": {
    "name": "ipython",
    "version": 2
   },
   "file_extension": ".py",
   "mimetype": "text/x-python",
   "name": "python",
   "nbconvert_exporter": "python",
   "pygments_lexer": "ipython2",
   "version": "2.7.12"
  }
 },
 "nbformat": 4,
 "nbformat_minor": 0
}
